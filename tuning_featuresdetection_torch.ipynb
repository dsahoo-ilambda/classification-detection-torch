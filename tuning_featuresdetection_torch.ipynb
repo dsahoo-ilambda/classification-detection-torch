{
 "cells": [
  {
   "cell_type": "code",
   "execution_count": 34,
   "metadata": {},
   "outputs": [],
   "source": [
    "import pandas as pd\n",
    "import numpy as np\n",
    "import os\n",
    "import pathlib\n",
    "import pickle\n",
    "import time\n",
    "from tqdm.notebook import tqdm\n",
    "import importlib\n",
    "import matplotlib.pyplot as plt\n",
    "%matplotlib inline\n",
    "\n",
    "import torch\n",
    "import torchvision\n",
    "from torch import nn, optim\n",
    "from torchvision.transforms import ToTensor, Normalize, Compose\n",
    "from torch.utils.data import DataLoader, Dataset\n",
    "from skimage import io, transform\n",
    "from sklearn.metrics import classification_report, auc, roc_curve, roc_auc_score\n",
    "from sklearn.model_selection import train_test_split\n"
   ]
  },
  {
   "cell_type": "code",
   "execution_count": 2,
   "metadata": {},
   "outputs": [],
   "source": [
    "if torch.cuda.is_available():\n",
    "        torch.cuda.set_device('cuda:1')"
   ]
  },
  {
   "cell_type": "code",
   "execution_count": 3,
   "metadata": {},
   "outputs": [],
   "source": [
    "DATASET_PATH = '/home/ilambda/goods_viewer/Debasish/dataset/'\n",
    "TRAIN_IMAGE_PATH = '/home/ilambda/goods_viewer/Debasish/dataset/1_train_split/whole_resize'\n",
    "TEST_IMAGE_PATH = '/home/ilambda/goods_viewer/Debasish/dataset/1_eval_img_resize/'\n",
    "BATCH_SIZE = 32"
   ]
  },
  {
   "cell_type": "code",
   "execution_count": 4,
   "metadata": {},
   "outputs": [],
   "source": [
    "training_df = pd.read_csv('attributes_training_df.csv', index_col='index')\n",
    "testing_df = pd.read_csv('attributes_testing_df.csv', index_col='index')\n",
    "\n",
    "# The list of features\n",
    "with open('all_features.pickle', 'rb') as f:\n",
    "    all_features = pickle.load(f)"
   ]
  },
  {
   "cell_type": "code",
   "execution_count": 5,
   "metadata": {},
   "outputs": [],
   "source": [
    "class ImageFeaturesDataSet(Dataset):\n",
    "    def __init__(self, df, y_cols, imagedir, x_col='filename', transform=None):\n",
    "        self.df = df\n",
    "        self.y_cols = y_cols\n",
    "        self.imagedir = imagedir\n",
    "        self.x_col = x_col\n",
    "        self.df.reset_index(inplace=True, drop=True)\n",
    "        self.filenames = list(df[x_col].values)\n",
    "        self.idx = 0\n",
    "        self.transform = transform\n",
    "        \n",
    "    def __getitem__(self, idx):\n",
    "        im = io.imread(os.path.join(self.imagedir, self.filenames[idx]))\n",
    "        im = im /255.\n",
    "        #sample = (im, self.labels[idx])\n",
    "        if self.transform:\n",
    "            # to avoid the type mismatch error. ToTensor() expects a float32\n",
    "            im = im.astype(np.float32)\n",
    "            im = self.transform(im)\n",
    "        sample = (im, torch.tensor(self.df.iloc[idx][self.y_cols].values.astype(np.long)).type(torch.float32))\n",
    "        return sample\n",
    "    \n",
    "    def __len__(self):\n",
    "        return len(self.filenames)"
   ]
  },
  {
   "cell_type": "code",
   "execution_count": 7,
   "metadata": {},
   "outputs": [
    {
     "data": {
      "text/plain": [
       "<module 'classification_metrics' from '/home/ilambda/goods_viewer/Debasish/torch/classification_metrics.py'>"
      ]
     },
     "execution_count": 7,
     "metadata": {},
     "output_type": "execute_result"
    }
   ],
   "source": [
    "import classification_metrics as metrics\n",
    "importlib.reload(metrics)"
   ]
  },
  {
   "cell_type": "code",
   "execution_count": 10,
   "metadata": {},
   "outputs": [],
   "source": [
    "means = [0.2,0.2,0.2]\n",
    "stds = [0.5,0.5,0.5]\n",
    "train_df, val_df = train_test_split(training_df, test_size=0.25)\n",
    "\n",
    "training_transforms = Compose([ToTensor(), Normalize(means, stds)])\n",
    "\n",
    "train_ds = ImageFeaturesDataSet(train_df, all_features, TRAIN_IMAGE_PATH, transform=training_transforms)\n",
    "train_gen = DataLoader(train_ds, batch_size=BATCH_SIZE, shuffle=True, drop_last=True)\n",
    "\n",
    "val_ds = ImageFeaturesDataSet(val_df, all_features, TRAIN_IMAGE_PATH, transform=training_transforms)\n",
    "val_gen = DataLoader(val_ds, batch_size=BATCH_SIZE, shuffle=False, drop_last=True)"
   ]
  },
  {
   "cell_type": "code",
   "execution_count": 26,
   "metadata": {},
   "outputs": [],
   "source": [
    "def validate(args, model, val_gen, bce_loss):\n",
    "    results = {}\n",
    "    model.eval()\n",
    "    all_preds = []\n",
    "    all_labels = []\n",
    "    tps, tns, fps, fns = torch.tensor(0), torch.tensor(0), torch.tensor(0), torch.tensor(0)\n",
    "    val_loss = 0.0\n",
    "    for images, labels in val_gen:\n",
    "        if torch.cuda.is_available():\n",
    "            images = images.cuda()\n",
    "            labels = labels.cuda()\n",
    "        outputs = model(images)\n",
    "        outputs = nn.Sigmoid()(outputs)\n",
    "        loss = bce_loss(outputs, labels)\n",
    "        val_loss += loss.cpu().item() * labels.size(0)\n",
    "        preds = outputs.cpu().data.apply_(lambda x: 1 if x >= 0.5 else 0)\n",
    "        all_labels.append(labels.detach().cpu())\n",
    "        all_preds.append(outputs.detach().cpu())\n",
    "        tp, tn, fp, fn = metrics.classifications(labels.cpu(), preds)\n",
    "        tps += tp\n",
    "        tns += tn\n",
    "        fps += fp\n",
    "        fns += fn\n",
    "    val_auc = roc_auc_score(torch.cat(all_labels).flatten(), torch.cat(all_preds).flatten())\n",
    "    val_loss = val_loss / (len(val_gen) * BATCH_SIZE)\n",
    "    prec = metrics.precision(tps, tns, fps, fns)\n",
    "    rec = metrics.recall(tps, tns, fps, fns)\n",
    "    f1 = metrics.calculate_f1(prec, rec)\n",
    "    results['val_loss'] = val_loss\n",
    "    results['val_tps'] = tps.cpu().item()\n",
    "    results['val_tns'] = tns.cpu().item()\n",
    "    results['val_fps'] = fps.cpu().item()\n",
    "    results['val_fns'] = fns.cpu().item()\n",
    "    results['val_precision'] = prec\n",
    "    results['val_recall'] = rec\n",
    "    results['val_f1'] = f1\n",
    "    results['val_auc'] = val_auc\n",
    "    \n",
    "    return results\n",
    "\n",
    "def train(args, model, training_gen, val_gen, adam, bce_loss):\n",
    "    \n",
    "    history = {'loss': [], 'tp': [], 'tn': [], 'fp': [], 'fn': [], 'precision': [], 'recall': [], 'f1': [], 'auc': [],\n",
    "              'val_loss': [], 'val_tp': [], 'val_tn': [], 'val_fp': [], 'val_fn': [], 'val_precision': [], 'val_recall': [], 'val_f1': [], 'val_auc': []}\n",
    "    \n",
    "    \n",
    "    if torch.cuda.is_available():\n",
    "        torch.cuda.set_device('cuda:1')\n",
    "        model.cuda()\n",
    "    epochs = args['epochs']\n",
    "    \n",
    "    for epoch in range(epochs):\n",
    "        #print(f\"epoch: {epoch+1} started...\")\n",
    "        start = time.time()\n",
    "        model.train()\n",
    "        train_loss = 0.0 \n",
    "        all_labels, all_preds = [], []\n",
    "        tps, tns, fps, fns = torch.tensor(0), torch.tensor(0), torch.tensor(0), torch.tensor(0)\n",
    "        for batch, (images, labels) in tqdm(enumerate(training_gen),desc=f'epoch: {epoch+1} ', total=len(training_gen)):\n",
    "            if torch.cuda.is_available():\n",
    "                images = images.cuda()\n",
    "                labels = labels.cuda()\n",
    "            adam.zero_grad()\n",
    "            outputs = model(images)\n",
    "            outputs = nn.Sigmoid()(outputs)\n",
    "            preds = outputs.cpu().data.apply_(lambda x: 1 if x >= 0.5 else 0)\n",
    "            loss = bce_loss(outputs, labels)\n",
    "            train_loss += loss.cpu().item() * labels.size(0)\n",
    "            loss.backward()\n",
    "            adam.step()\n",
    "            tp, tn, fp, fn = metrics.classifications(labels.cpu(), preds)\n",
    "            tps += tp\n",
    "            tns += tn\n",
    "            fps += fp\n",
    "            fns += fn\n",
    "            all_preds.append(outputs.detach().cpu())\n",
    "            all_labels.append(labels.detach().cpu())\n",
    "        train_auc = roc_auc_score(torch.cat(all_labels).flatten(), torch.cat(all_preds).flatten())\n",
    "        prec = metrics.precision(tps, tns, fps, fns)\n",
    "        rec = metrics.recall(tps, tns, fps, fns)\n",
    "        f1 = metrics.calculate_f1(prec, rec)\n",
    "        with torch.no_grad():\n",
    "            val_results = validate(args, model, val_gen, bce_loss)\n",
    "        end = time.time()\n",
    "        duration = (end - start)/60\n",
    "        train_loss = train_loss / (len(training_gen) * BATCH_SIZE)   \n",
    "        print(f\"epoch: {epoch+1}, duration: {duration: 0.2f} mins\")\n",
    "        print(f\"loss: {train_loss: 0.4f}, precision: {prec: 0.4f}, recall: {rec: 0.4f}, f1: {f1: 0.4f}, auc: {train_auc: 0.4f}\") \n",
    "        print(f\"val_loss: {val_results['val_loss']: 0.4f}, val_precision: {val_results['val_precision']: 0.4f}, val_recall: {val_results['val_recall']: 0.4f}, val_f1: {val_results['val_f1']: 0.4f}, val_auc: {val_results['val_auc']: 0.4f}\")\n",
    "        history['loss'].append(train_loss)\n",
    "        history['tp'].append(tps.cpu().item())\n",
    "        history['tn'].append(tns.cpu().item())\n",
    "        history['fp'].append(fps.cpu().item())\n",
    "        history['fn'].append(fns.cpu().item())\n",
    "        history['precision'].append(prec)\n",
    "        history['recall'].append(rec)\n",
    "        history['f1'].append(f1)\n",
    "        history['auc'].append(train_auc)\n",
    "        history['val_loss'].append(val_results['val_loss'])\n",
    "        history['val_tp'].append(val_results['val_tps'])\n",
    "        history['val_tn'].append(val_results['val_tns'])\n",
    "        history['val_fp'].append(val_results['val_fps'])\n",
    "        history['val_fn'].append(val_results['val_fns'])\n",
    "        history['val_precision'].append(val_results['val_precision'])\n",
    "        history['val_recall'].append(val_results['val_recall'])\n",
    "        history['val_f1'].append(val_results['val_f1'])\n",
    "        history['val_auc'].append(val_results['val_auc'])\n",
    "        \n",
    "    torch.save(model, 'feature_detection_model1.pickle')\n",
    "    return history"
   ]
  },
  {
   "cell_type": "markdown",
   "metadata": {},
   "source": [
    "### Dense only train model"
   ]
  },
  {
   "cell_type": "code",
   "execution_count": 12,
   "metadata": {},
   "outputs": [],
   "source": [
    "args = {'epochs': 10, 'lr': 0.00001}"
   ]
  },
  {
   "cell_type": "code",
   "execution_count": 14,
   "metadata": {},
   "outputs": [],
   "source": [
    "resnet = torchvision.models.resnet50(pretrained=True, progress=False)\n",
    "resnet.fc = nn.Linear(in_features=resnet.fc.in_features, out_features=len(all_features))"
   ]
  },
  {
   "cell_type": "code",
   "execution_count": 16,
   "metadata": {},
   "outputs": [
    {
     "name": "stdout",
     "output_type": "stream",
     "text": [
      "conv1\n",
      "bn1\n",
      "relu\n",
      "maxpool\n",
      "layer1\n",
      "layer2\n",
      "layer3\n",
      "layer4\n",
      "avgpool\n",
      "fc\n"
     ]
    }
   ],
   "source": [
    "for name,c in resnet.named_children():\n",
    "    #print(name)\n",
    "    for p in c.parameters():\n",
    "        if name != 'fc':\n",
    "            p.requires_grad = False"
   ]
  },
  {
   "cell_type": "code",
   "execution_count": 24,
   "metadata": {},
   "outputs": [
    {
     "name": "stdout",
     "output_type": "stream",
     "text": [
      "conv1 False\n",
      "bn1 False\n",
      "bn1 False\n",
      "layer1 False\n",
      "layer1 False\n",
      "layer1 False\n",
      "layer1 False\n",
      "layer1 False\n",
      "layer1 False\n",
      "layer1 False\n",
      "layer1 False\n",
      "layer1 False\n",
      "layer1 False\n",
      "layer1 False\n",
      "layer1 False\n",
      "layer1 False\n",
      "layer1 False\n",
      "layer1 False\n",
      "layer1 False\n",
      "layer1 False\n",
      "layer1 False\n",
      "layer1 False\n",
      "layer1 False\n",
      "layer1 False\n",
      "layer1 False\n",
      "layer1 False\n",
      "layer1 False\n",
      "layer1 False\n",
      "layer1 False\n",
      "layer1 False\n",
      "layer1 False\n",
      "layer1 False\n",
      "layer1 False\n",
      "layer2 False\n",
      "layer2 False\n",
      "layer2 False\n",
      "layer2 False\n",
      "layer2 False\n",
      "layer2 False\n",
      "layer2 False\n",
      "layer2 False\n",
      "layer2 False\n",
      "layer2 False\n",
      "layer2 False\n",
      "layer2 False\n",
      "layer2 False\n",
      "layer2 False\n",
      "layer2 False\n",
      "layer2 False\n",
      "layer2 False\n",
      "layer2 False\n",
      "layer2 False\n",
      "layer2 False\n",
      "layer2 False\n",
      "layer2 False\n",
      "layer2 False\n",
      "layer2 False\n",
      "layer2 False\n",
      "layer2 False\n",
      "layer2 False\n",
      "layer2 False\n",
      "layer2 False\n",
      "layer2 False\n",
      "layer2 False\n",
      "layer2 False\n",
      "layer2 False\n",
      "layer2 False\n",
      "layer2 False\n",
      "layer2 False\n",
      "layer2 False\n",
      "layer2 False\n",
      "layer2 False\n",
      "layer3 False\n",
      "layer3 False\n",
      "layer3 False\n",
      "layer3 False\n",
      "layer3 False\n",
      "layer3 False\n",
      "layer3 False\n",
      "layer3 False\n",
      "layer3 False\n",
      "layer3 False\n",
      "layer3 False\n",
      "layer3 False\n",
      "layer3 False\n",
      "layer3 False\n",
      "layer3 False\n",
      "layer3 False\n",
      "layer3 False\n",
      "layer3 False\n",
      "layer3 False\n",
      "layer3 False\n",
      "layer3 False\n",
      "layer3 False\n",
      "layer3 False\n",
      "layer3 False\n",
      "layer3 False\n",
      "layer3 False\n",
      "layer3 False\n",
      "layer3 False\n",
      "layer3 False\n",
      "layer3 False\n",
      "layer3 False\n",
      "layer3 False\n",
      "layer3 False\n",
      "layer3 False\n",
      "layer3 False\n",
      "layer3 False\n",
      "layer3 False\n",
      "layer3 False\n",
      "layer3 False\n",
      "layer3 False\n",
      "layer3 False\n",
      "layer3 False\n",
      "layer3 False\n",
      "layer3 False\n",
      "layer3 False\n",
      "layer3 False\n",
      "layer3 False\n",
      "layer3 False\n",
      "layer3 False\n",
      "layer3 False\n",
      "layer3 False\n",
      "layer3 False\n",
      "layer3 False\n",
      "layer3 False\n",
      "layer3 False\n",
      "layer3 False\n",
      "layer3 False\n",
      "layer4 False\n",
      "layer4 False\n",
      "layer4 False\n",
      "layer4 False\n",
      "layer4 False\n",
      "layer4 False\n",
      "layer4 False\n",
      "layer4 False\n",
      "layer4 False\n",
      "layer4 False\n",
      "layer4 False\n",
      "layer4 False\n",
      "layer4 False\n",
      "layer4 False\n",
      "layer4 False\n",
      "layer4 False\n",
      "layer4 False\n",
      "layer4 False\n",
      "layer4 False\n",
      "layer4 False\n",
      "layer4 False\n",
      "layer4 False\n",
      "layer4 False\n",
      "layer4 False\n",
      "layer4 False\n",
      "layer4 False\n",
      "layer4 False\n",
      "layer4 False\n",
      "layer4 False\n",
      "layer4 False\n",
      "fc True\n",
      "fc True\n"
     ]
    }
   ],
   "source": [
    "for name,c in resnet.named_children():\n",
    "    #print(name)\n",
    "    for p in c.parameters():\n",
    "            print(name,p.requires_grad)"
   ]
  },
  {
   "cell_type": "code",
   "execution_count": 21,
   "metadata": {},
   "outputs": [],
   "source": [
    "adam = torch.optim.Adam(list(filter(lambda p: p.requires_grad, resnet.parameters())),lr=args['lr'])\n",
    "bce_loss = torch.nn.BCELoss()"
   ]
  },
  {
   "cell_type": "code",
   "execution_count": 27,
   "metadata": {},
   "outputs": [
    {
     "data": {
      "application/vnd.jupyter.widget-view+json": {
       "model_id": "701edd297adf4344ac5bfedc62dd00e5",
       "version_major": 2,
       "version_minor": 0
      },
      "text/plain": [
       "HBox(children=(FloatProgress(value=0.0, description='epoch: 1 ', max=2254.0, style=ProgressStyle(description_w…"
      ]
     },
     "metadata": {},
     "output_type": "display_data"
    },
    {
     "name": "stdout",
     "output_type": "stream",
     "text": [
      "\n",
      "epoch: 1, duration:  7.46 mins\n",
      "loss:  0.1194, precision:  0.7022, recall:  0.2234, f1:  0.3390, auc:  0.9131\n",
      "val_loss:  0.1166, val_precision:  0.6968, val_recall:  0.2526, val_f1:  0.3708, val_auc:  0.9184\n"
     ]
    },
    {
     "data": {
      "application/vnd.jupyter.widget-view+json": {
       "model_id": "213855083d2e4fc899ddfa36b440bb7f",
       "version_major": 2,
       "version_minor": 0
      },
      "text/plain": [
       "HBox(children=(FloatProgress(value=0.0, description='epoch: 2 ', max=2254.0, style=ProgressStyle(description_w…"
      ]
     },
     "metadata": {},
     "output_type": "display_data"
    },
    {
     "name": "stdout",
     "output_type": "stream",
     "text": [
      "\n",
      "epoch: 2, duration:  7.40 mins\n",
      "loss:  0.1152, precision:  0.7033, recall:  0.2535, f1:  0.3727, auc:  0.9219\n",
      "val_loss:  0.1133, val_precision:  0.6957, val_recall:  0.2750, val_f1:  0.3942, val_auc:  0.9253\n"
     ]
    },
    {
     "data": {
      "application/vnd.jupyter.widget-view+json": {
       "model_id": "acea54bfb7da4912ba32c307cd3e9d62",
       "version_major": 2,
       "version_minor": 0
      },
      "text/plain": [
       "HBox(children=(FloatProgress(value=0.0, description='epoch: 3 ', max=2254.0, style=ProgressStyle(description_w…"
      ]
     },
     "metadata": {},
     "output_type": "display_data"
    },
    {
     "name": "stdout",
     "output_type": "stream",
     "text": [
      "\n",
      "epoch: 3, duration:  7.49 mins\n",
      "loss:  0.1125, precision:  0.7007, recall:  0.2743, f1:  0.3943, auc:  0.9274\n",
      "val_loss:  0.1112, val_precision:  0.7008, val_recall:  0.2839, val_f1:  0.4041, val_auc:  0.9296\n"
     ]
    },
    {
     "data": {
      "application/vnd.jupyter.widget-view+json": {
       "model_id": "4bba2d426ebc4d4d9091680b277f596c",
       "version_major": 2,
       "version_minor": 0
      },
      "text/plain": [
       "HBox(children=(FloatProgress(value=0.0, description='epoch: 4 ', max=2254.0, style=ProgressStyle(description_w…"
      ]
     },
     "metadata": {},
     "output_type": "display_data"
    },
    {
     "name": "stdout",
     "output_type": "stream",
     "text": [
      "\n",
      "epoch: 4, duration:  7.50 mins\n",
      "loss:  0.1106, precision:  0.6983, recall:  0.2895, f1:  0.4093, auc:  0.9313\n",
      "val_loss:  0.1095, val_precision:  0.6984, val_recall:  0.2934, val_f1:  0.4132, val_auc:  0.9330\n"
     ]
    },
    {
     "data": {
      "application/vnd.jupyter.widget-view+json": {
       "model_id": "04f14f539a0f491a8d560eaefcc78f49",
       "version_major": 2,
       "version_minor": 0
      },
      "text/plain": [
       "HBox(children=(FloatProgress(value=0.0, description='epoch: 5 ', max=2254.0, style=ProgressStyle(description_w…"
      ]
     },
     "metadata": {},
     "output_type": "display_data"
    },
    {
     "name": "stdout",
     "output_type": "stream",
     "text": [
      "\n",
      "epoch: 5, duration:  7.48 mins\n",
      "loss:  0.1092, precision:  0.6956, recall:  0.3002, f1:  0.4194, auc:  0.9340\n",
      "val_loss:  0.1083, val_precision:  0.6990, val_recall:  0.3023, val_f1:  0.4220, val_auc:  0.9353\n"
     ]
    },
    {
     "data": {
      "application/vnd.jupyter.widget-view+json": {
       "model_id": "9d9fa84477a74b48b83bf28ebb4a78e8",
       "version_major": 2,
       "version_minor": 0
      },
      "text/plain": [
       "HBox(children=(FloatProgress(value=0.0, description='epoch: 6 ', max=2254.0, style=ProgressStyle(description_w…"
      ]
     },
     "metadata": {},
     "output_type": "display_data"
    },
    {
     "name": "stdout",
     "output_type": "stream",
     "text": [
      "\n",
      "epoch: 6, duration:  7.43 mins\n",
      "loss:  0.1081, precision:  0.6950, recall:  0.3090, f1:  0.4278, auc:  0.9362\n",
      "val_loss:  0.1073, val_precision:  0.6892, val_recall:  0.3204, val_f1:  0.4375, val_auc:  0.9371\n"
     ]
    },
    {
     "data": {
      "application/vnd.jupyter.widget-view+json": {
       "model_id": "841d275afb684efba3949a4b46a514a7",
       "version_major": 2,
       "version_minor": 0
      },
      "text/plain": [
       "HBox(children=(FloatProgress(value=0.0, description='epoch: 7 ', max=2254.0, style=ProgressStyle(description_w…"
      ]
     },
     "metadata": {},
     "output_type": "display_data"
    },
    {
     "name": "stdout",
     "output_type": "stream",
     "text": [
      "\n",
      "epoch: 7, duration:  7.47 mins\n",
      "loss:  0.1072, precision:  0.6932, recall:  0.3161, f1:  0.4342, auc:  0.9378\n",
      "val_loss:  0.1064, val_precision:  0.6923, val_recall:  0.3235, val_f1:  0.4409, val_auc:  0.9388\n"
     ]
    },
    {
     "data": {
      "application/vnd.jupyter.widget-view+json": {
       "model_id": "7cfc38db4e0f4d758ebd4c195eed39bf",
       "version_major": 2,
       "version_minor": 0
      },
      "text/plain": [
       "HBox(children=(FloatProgress(value=0.0, description='epoch: 8 ', max=2254.0, style=ProgressStyle(description_w…"
      ]
     },
     "metadata": {},
     "output_type": "display_data"
    },
    {
     "name": "stdout",
     "output_type": "stream",
     "text": [
      "\n",
      "epoch: 8, duration:  7.39 mins\n",
      "loss:  0.1064, precision:  0.6926, recall:  0.3219, f1:  0.4396, auc:  0.9392\n",
      "val_loss:  0.1057, val_precision:  0.6897, val_recall:  0.3315, val_f1:  0.4477, val_auc:  0.9400\n"
     ]
    },
    {
     "data": {
      "application/vnd.jupyter.widget-view+json": {
       "model_id": "4bd4469cc6384057b5b2ba2d190ca618",
       "version_major": 2,
       "version_minor": 0
      },
      "text/plain": [
       "HBox(children=(FloatProgress(value=0.0, description='epoch: 9 ', max=2254.0, style=ProgressStyle(description_w…"
      ]
     },
     "metadata": {},
     "output_type": "display_data"
    },
    {
     "name": "stdout",
     "output_type": "stream",
     "text": [
      "\n",
      "epoch: 9, duration:  7.44 mins\n",
      "loss:  0.1058, precision:  0.6922, recall:  0.3265, f1:  0.4437, auc:  0.9402\n",
      "val_loss:  0.1054, val_precision:  0.6887, val_recall:  0.3358, val_f1:  0.4515, val_auc:  0.9406\n"
     ]
    },
    {
     "data": {
      "application/vnd.jupyter.widget-view+json": {
       "model_id": "44fc883ae27c45d38f02031ff18907cd",
       "version_major": 2,
       "version_minor": 0
      },
      "text/plain": [
       "HBox(children=(FloatProgress(value=0.0, description='epoch: 10 ', max=2254.0, style=ProgressStyle(description_…"
      ]
     },
     "metadata": {},
     "output_type": "display_data"
    },
    {
     "name": "stdout",
     "output_type": "stream",
     "text": [
      "\n",
      "epoch: 10, duration:  7.48 mins\n",
      "loss:  0.1053, precision:  0.6912, recall:  0.3305, f1:  0.4472, auc:  0.9412\n",
      "val_loss:  0.1048, val_precision:  0.6911, val_recall:  0.3354, val_f1:  0.4516, val_auc:  0.9414\n"
     ]
    }
   ],
   "source": [
    "history = train(args, resnet, train_gen, val_gen, adam, bce_loss)"
   ]
  },
  {
   "cell_type": "code",
   "execution_count": 28,
   "metadata": {},
   "outputs": [],
   "source": [
    "with open('history_1_dense_only.pickle', 'wb') as f:\n",
    "    pickle.dump(history, f)\n",
    "torch.save(resnet, 'model_1_dense_only.pickle')"
   ]
  },
  {
   "cell_type": "code",
   "execution_count": 29,
   "metadata": {},
   "outputs": [],
   "source": [
    "def evaluate(model, test_gen):\n",
    "    all_preds = []\n",
    "    all_labels = []\n",
    "    model.eval()\n",
    "    if torch.cuda.is_available():\n",
    "        model.cuda()\n",
    "    with torch.no_grad():\n",
    "        for images, labels in tqdm(test_gen, total=len(test_gen)):\n",
    "            if torch.cuda.is_available():\n",
    "                images = images.cuda()\n",
    "                labels = labels.cuda()\n",
    "\n",
    "            outputs = model(images)\n",
    "            outputs = nn.Sigmoid()(outputs)\n",
    "            all_labels.append(labels.cpu())\n",
    "            all_preds.append(outputs.cpu())\n",
    "    return all_labels, all_preds"
   ]
  },
  {
   "cell_type": "code",
   "execution_count": 30,
   "metadata": {},
   "outputs": [],
   "source": [
    "test_ds = ImageFeaturesDataSet(testing_df, all_features, TEST_IMAGE_PATH, transform=training_transforms)\n",
    "test_gen = DataLoader(test_ds, batch_size=BATCH_SIZE, shuffle=False, drop_last=True)"
   ]
  },
  {
   "cell_type": "code",
   "execution_count": 31,
   "metadata": {},
   "outputs": [
    {
     "data": {
      "application/vnd.jupyter.widget-view+json": {
       "model_id": "c06c2d2cb213465c9c4c78477c850802",
       "version_major": 2,
       "version_minor": 0
      },
      "text/plain": [
       "HBox(children=(FloatProgress(value=0.0, max=357.0), HTML(value='')))"
      ]
     },
     "metadata": {},
     "output_type": "display_data"
    },
    {
     "name": "stdout",
     "output_type": "stream",
     "text": [
      "\n"
     ]
    }
   ],
   "source": [
    "all_labels, all_preds = evaluate(resnet, test_gen)"
   ]
  },
  {
   "cell_type": "code",
   "execution_count": 32,
   "metadata": {},
   "outputs": [],
   "source": [
    "pres, res = metrics.calc_pres_recall(torch.cat(all_labels), torch.cat(all_preds))"
   ]
  },
  {
   "cell_type": "code",
   "execution_count": 37,
   "metadata": {},
   "outputs": [
    {
     "data": {
      "image/png": "[encoded data removed]",
      "text/plain": [
       "<Figure size 720x720 with 1 Axes>"
      ]
     },
     "metadata": {
      "needs_background": "light"
     },
     "output_type": "display_data"
    }
   ],
   "source": [
    "plt.figure(figsize=(10,10))\n",
    "plt.plot(pres, label='precision')\n",
    "plt.plot(res, label='recall')\n",
    "plt.legend()\n",
    "plt.grid()\n",
    "plt.xlabel(\"Threshold\")\n",
    "plt.xticks([i for i in range(0,101,10)], labels=[i/100 for i in range(0,101,10)])\n",
    "plt.show()"
   ]
  },
  {
   "cell_type": "markdown",
   "metadata": {},
   "source": [
    "### Dense only with 2 dense layers"
   ]
  },
  {
   "cell_type": "code",
   "execution_count": 38,
   "metadata": {},
   "outputs": [],
   "source": [
    "from collections import OrderedDict\n",
    "resnet = torchvision.models.resnet50(pretrained=True, progress=False)\n",
    "resnet.fc = nn.Linear(in_features=resnet.fc.in_features, out_features=500)\n",
    "fc1 = nn.Linear(500, len(all_features))\n",
    "relu1 = nn.ReLU()\n",
    "\n",
    "modules_dict = {\"resnet\": resnet, \"relu1\": relu1, \"fc1\": fc1}\n",
    "model = nn.Sequential(OrderedDict(modules_dict))"
   ]
  },
  {
   "cell_type": "code",
   "execution_count": 43,
   "metadata": {},
   "outputs": [
    {
     "data": {
      "text/plain": [
       "['',\n",
       " 'resnet',\n",
       " 'resnet.conv1',\n",
       " 'resnet.bn1',\n",
       " 'resnet.relu',\n",
       " 'resnet.maxpool',\n",
       " 'resnet.layer1',\n",
       " 'resnet.layer1.0',\n",
       " 'resnet.layer1.0.conv1',\n",
       " 'resnet.layer1.0.bn1',\n",
       " 'resnet.layer1.0.conv2',\n",
       " 'resnet.layer1.0.bn2',\n",
       " 'resnet.layer1.0.conv3',\n",
       " 'resnet.layer1.0.bn3',\n",
       " 'resnet.layer1.0.relu',\n",
       " 'resnet.layer1.0.downsample',\n",
       " 'resnet.layer1.0.downsample.0',\n",
       " 'resnet.layer1.0.downsample.1',\n",
       " 'resnet.layer1.1',\n",
       " 'resnet.layer1.1.conv1',\n",
       " 'resnet.layer1.1.bn1',\n",
       " 'resnet.layer1.1.conv2',\n",
       " 'resnet.layer1.1.bn2',\n",
       " 'resnet.layer1.1.conv3',\n",
       " 'resnet.layer1.1.bn3',\n",
       " 'resnet.layer1.1.relu',\n",
       " 'resnet.layer1.2',\n",
       " 'resnet.layer1.2.conv1',\n",
       " 'resnet.layer1.2.bn1',\n",
       " 'resnet.layer1.2.conv2',\n",
       " 'resnet.layer1.2.bn2',\n",
       " 'resnet.layer1.2.conv3',\n",
       " 'resnet.layer1.2.bn3',\n",
       " 'resnet.layer1.2.relu',\n",
       " 'resnet.layer2',\n",
       " 'resnet.layer2.0',\n",
       " 'resnet.layer2.0.conv1',\n",
       " 'resnet.layer2.0.bn1',\n",
       " 'resnet.layer2.0.conv2',\n",
       " 'resnet.layer2.0.bn2',\n",
       " 'resnet.layer2.0.conv3',\n",
       " 'resnet.layer2.0.bn3',\n",
       " 'resnet.layer2.0.relu',\n",
       " 'resnet.layer2.0.downsample',\n",
       " 'resnet.layer2.0.downsample.0',\n",
       " 'resnet.layer2.0.downsample.1',\n",
       " 'resnet.layer2.1',\n",
       " 'resnet.layer2.1.conv1',\n",
       " 'resnet.layer2.1.bn1',\n",
       " 'resnet.layer2.1.conv2',\n",
       " 'resnet.layer2.1.bn2',\n",
       " 'resnet.layer2.1.conv3',\n",
       " 'resnet.layer2.1.bn3',\n",
       " 'resnet.layer2.1.relu',\n",
       " 'resnet.layer2.2',\n",
       " 'resnet.layer2.2.conv1',\n",
       " 'resnet.layer2.2.bn1',\n",
       " 'resnet.layer2.2.conv2',\n",
       " 'resnet.layer2.2.bn2',\n",
       " 'resnet.layer2.2.conv3',\n",
       " 'resnet.layer2.2.bn3',\n",
       " 'resnet.layer2.2.relu',\n",
       " 'resnet.layer2.3',\n",
       " 'resnet.layer2.3.conv1',\n",
       " 'resnet.layer2.3.bn1',\n",
       " 'resnet.layer2.3.conv2',\n",
       " 'resnet.layer2.3.bn2',\n",
       " 'resnet.layer2.3.conv3',\n",
       " 'resnet.layer2.3.bn3',\n",
       " 'resnet.layer2.3.relu',\n",
       " 'resnet.layer3',\n",
       " 'resnet.layer3.0',\n",
       " 'resnet.layer3.0.conv1',\n",
       " 'resnet.layer3.0.bn1',\n",
       " 'resnet.layer3.0.conv2',\n",
       " 'resnet.layer3.0.bn2',\n",
       " 'resnet.layer3.0.conv3',\n",
       " 'resnet.layer3.0.bn3',\n",
       " 'resnet.layer3.0.relu',\n",
       " 'resnet.layer3.0.downsample',\n",
       " 'resnet.layer3.0.downsample.0',\n",
       " 'resnet.layer3.0.downsample.1',\n",
       " 'resnet.layer3.1',\n",
       " 'resnet.layer3.1.conv1',\n",
       " 'resnet.layer3.1.bn1',\n",
       " 'resnet.layer3.1.conv2',\n",
       " 'resnet.layer3.1.bn2',\n",
       " 'resnet.layer3.1.conv3',\n",
       " 'resnet.layer3.1.bn3',\n",
       " 'resnet.layer3.1.relu',\n",
       " 'resnet.layer3.2',\n",
       " 'resnet.layer3.2.conv1',\n",
       " 'resnet.layer3.2.bn1',\n",
       " 'resnet.layer3.2.conv2',\n",
       " 'resnet.layer3.2.bn2',\n",
       " 'resnet.layer3.2.conv3',\n",
       " 'resnet.layer3.2.bn3',\n",
       " 'resnet.layer3.2.relu',\n",
       " 'resnet.layer3.3',\n",
       " 'resnet.layer3.3.conv1',\n",
       " 'resnet.layer3.3.bn1',\n",
       " 'resnet.layer3.3.conv2',\n",
       " 'resnet.layer3.3.bn2',\n",
       " 'resnet.layer3.3.conv3',\n",
       " 'resnet.layer3.3.bn3',\n",
       " 'resnet.layer3.3.relu',\n",
       " 'resnet.layer3.4',\n",
       " 'resnet.layer3.4.conv1',\n",
       " 'resnet.layer3.4.bn1',\n",
       " 'resnet.layer3.4.conv2',\n",
       " 'resnet.layer3.4.bn2',\n",
       " 'resnet.layer3.4.conv3',\n",
       " 'resnet.layer3.4.bn3',\n",
       " 'resnet.layer3.4.relu',\n",
       " 'resnet.layer3.5',\n",
       " 'resnet.layer3.5.conv1',\n",
       " 'resnet.layer3.5.bn1',\n",
       " 'resnet.layer3.5.conv2',\n",
       " 'resnet.layer3.5.bn2',\n",
       " 'resnet.layer3.5.conv3',\n",
       " 'resnet.layer3.5.bn3',\n",
       " 'resnet.layer3.5.relu',\n",
       " 'resnet.layer4',\n",
       " 'resnet.layer4.0',\n",
       " 'resnet.layer4.0.conv1',\n",
       " 'resnet.layer4.0.bn1',\n",
       " 'resnet.layer4.0.conv2',\n",
       " 'resnet.layer4.0.bn2',\n",
       " 'resnet.layer4.0.conv3',\n",
       " 'resnet.layer4.0.bn3',\n",
       " 'resnet.layer4.0.relu',\n",
       " 'resnet.layer4.0.downsample',\n",
       " 'resnet.layer4.0.downsample.0',\n",
       " 'resnet.layer4.0.downsample.1',\n",
       " 'resnet.layer4.1',\n",
       " 'resnet.layer4.1.conv1',\n",
       " 'resnet.layer4.1.bn1',\n",
       " 'resnet.layer4.1.conv2',\n",
       " 'resnet.layer4.1.bn2',\n",
       " 'resnet.layer4.1.conv3',\n",
       " 'resnet.layer4.1.bn3',\n",
       " 'resnet.layer4.1.relu',\n",
       " 'resnet.layer4.2',\n",
       " 'resnet.layer4.2.conv1',\n",
       " 'resnet.layer4.2.bn1',\n",
       " 'resnet.layer4.2.conv2',\n",
       " 'resnet.layer4.2.bn2',\n",
       " 'resnet.layer4.2.conv3',\n",
       " 'resnet.layer4.2.bn3',\n",
       " 'resnet.layer4.2.relu',\n",
       " 'resnet.avgpool',\n",
       " 'resnet.fc',\n",
       " 'relu1',\n",
       " 'fc1']"
      ]
     },
     "execution_count": 43,
     "metadata": {},
     "output_type": "execute_result"
    }
   ],
   "source": [
    "[name for name,_ in model.named_modules()]"
   ]
  },
  {
   "cell_type": "code",
   "execution_count": 49,
   "metadata": {},
   "outputs": [
    {
     "name": "stdout",
     "output_type": "stream",
     "text": [
      "resnet.conv1.weight False\n",
      "resnet.bn1.weight False\n",
      "resnet.bn1.bias False\n",
      "resnet.layer1.0.conv1.weight False\n",
      "resnet.layer1.0.bn1.weight False\n",
      "resnet.layer1.0.bn1.bias False\n",
      "resnet.layer1.0.conv2.weight False\n",
      "resnet.layer1.0.bn2.weight False\n",
      "resnet.layer1.0.bn2.bias False\n",
      "resnet.layer1.0.conv3.weight False\n",
      "resnet.layer1.0.bn3.weight False\n",
      "resnet.layer1.0.bn3.bias False\n",
      "resnet.layer1.0.downsample.0.weight False\n",
      "resnet.layer1.0.downsample.1.weight False\n",
      "resnet.layer1.0.downsample.1.bias False\n",
      "resnet.layer1.1.conv1.weight False\n",
      "resnet.layer1.1.bn1.weight False\n",
      "resnet.layer1.1.bn1.bias False\n",
      "resnet.layer1.1.conv2.weight False\n",
      "resnet.layer1.1.bn2.weight False\n",
      "resnet.layer1.1.bn2.bias False\n",
      "resnet.layer1.1.conv3.weight False\n",
      "resnet.layer1.1.bn3.weight False\n",
      "resnet.layer1.1.bn3.bias False\n",
      "resnet.layer1.2.conv1.weight False\n",
      "resnet.layer1.2.bn1.weight False\n",
      "resnet.layer1.2.bn1.bias False\n",
      "resnet.layer1.2.conv2.weight False\n",
      "resnet.layer1.2.bn2.weight False\n",
      "resnet.layer1.2.bn2.bias False\n",
      "resnet.layer1.2.conv3.weight False\n",
      "resnet.layer1.2.bn3.weight False\n",
      "resnet.layer1.2.bn3.bias False\n",
      "resnet.layer2.0.conv1.weight False\n",
      "resnet.layer2.0.bn1.weight False\n",
      "resnet.layer2.0.bn1.bias False\n",
      "resnet.layer2.0.conv2.weight False\n",
      "resnet.layer2.0.bn2.weight False\n",
      "resnet.layer2.0.bn2.bias False\n",
      "resnet.layer2.0.conv3.weight False\n",
      "resnet.layer2.0.bn3.weight False\n",
      "resnet.layer2.0.bn3.bias False\n",
      "resnet.layer2.0.downsample.0.weight False\n",
      "resnet.layer2.0.downsample.1.weight False\n",
      "resnet.layer2.0.downsample.1.bias False\n",
      "resnet.layer2.1.conv1.weight False\n",
      "resnet.layer2.1.bn1.weight False\n",
      "resnet.layer2.1.bn1.bias False\n",
      "resnet.layer2.1.conv2.weight False\n",
      "resnet.layer2.1.bn2.weight False\n",
      "resnet.layer2.1.bn2.bias False\n",
      "resnet.layer2.1.conv3.weight False\n",
      "resnet.layer2.1.bn3.weight False\n",
      "resnet.layer2.1.bn3.bias False\n",
      "resnet.layer2.2.conv1.weight False\n",
      "resnet.layer2.2.bn1.weight False\n",
      "resnet.layer2.2.bn1.bias False\n",
      "resnet.layer2.2.conv2.weight False\n",
      "resnet.layer2.2.bn2.weight False\n",
      "resnet.layer2.2.bn2.bias False\n",
      "resnet.layer2.2.conv3.weight False\n",
      "resnet.layer2.2.bn3.weight False\n",
      "resnet.layer2.2.bn3.bias False\n",
      "resnet.layer2.3.conv1.weight False\n",
      "resnet.layer2.3.bn1.weight False\n",
      "resnet.layer2.3.bn1.bias False\n",
      "resnet.layer2.3.conv2.weight False\n",
      "resnet.layer2.3.bn2.weight False\n",
      "resnet.layer2.3.bn2.bias False\n",
      "resnet.layer2.3.conv3.weight False\n",
      "resnet.layer2.3.bn3.weight False\n",
      "resnet.layer2.3.bn3.bias False\n",
      "resnet.layer3.0.conv1.weight False\n",
      "resnet.layer3.0.bn1.weight False\n",
      "resnet.layer3.0.bn1.bias False\n",
      "resnet.layer3.0.conv2.weight False\n",
      "resnet.layer3.0.bn2.weight False\n",
      "resnet.layer3.0.bn2.bias False\n",
      "resnet.layer3.0.conv3.weight False\n",
      "resnet.layer3.0.bn3.weight False\n",
      "resnet.layer3.0.bn3.bias False\n",
      "resnet.layer3.0.downsample.0.weight False\n",
      "resnet.layer3.0.downsample.1.weight False\n",
      "resnet.layer3.0.downsample.1.bias False\n",
      "resnet.layer3.1.conv1.weight False\n",
      "resnet.layer3.1.bn1.weight False\n",
      "resnet.layer3.1.bn1.bias False\n",
      "resnet.layer3.1.conv2.weight False\n",
      "resnet.layer3.1.bn2.weight False\n",
      "resnet.layer3.1.bn2.bias False\n",
      "resnet.layer3.1.conv3.weight False\n",
      "resnet.layer3.1.bn3.weight False\n",
      "resnet.layer3.1.bn3.bias False\n",
      "resnet.layer3.2.conv1.weight False\n",
      "resnet.layer3.2.bn1.weight False\n",
      "resnet.layer3.2.bn1.bias False\n",
      "resnet.layer3.2.conv2.weight False\n",
      "resnet.layer3.2.bn2.weight False\n",
      "resnet.layer3.2.bn2.bias False\n",
      "resnet.layer3.2.conv3.weight False\n",
      "resnet.layer3.2.bn3.weight False\n",
      "resnet.layer3.2.bn3.bias False\n",
      "resnet.layer3.3.conv1.weight False\n",
      "resnet.layer3.3.bn1.weight False\n",
      "resnet.layer3.3.bn1.bias False\n",
      "resnet.layer3.3.conv2.weight False\n",
      "resnet.layer3.3.bn2.weight False\n",
      "resnet.layer3.3.bn2.bias False\n",
      "resnet.layer3.3.conv3.weight False\n",
      "resnet.layer3.3.bn3.weight False\n",
      "resnet.layer3.3.bn3.bias False\n",
      "resnet.layer3.4.conv1.weight False\n",
      "resnet.layer3.4.bn1.weight False\n",
      "resnet.layer3.4.bn1.bias False\n",
      "resnet.layer3.4.conv2.weight False\n",
      "resnet.layer3.4.bn2.weight False\n",
      "resnet.layer3.4.bn2.bias False\n",
      "resnet.layer3.4.conv3.weight False\n",
      "resnet.layer3.4.bn3.weight False\n",
      "resnet.layer3.4.bn3.bias False\n",
      "resnet.layer3.5.conv1.weight False\n",
      "resnet.layer3.5.bn1.weight False\n",
      "resnet.layer3.5.bn1.bias False\n",
      "resnet.layer3.5.conv2.weight False\n",
      "resnet.layer3.5.bn2.weight False\n",
      "resnet.layer3.5.bn2.bias False\n",
      "resnet.layer3.5.conv3.weight False\n",
      "resnet.layer3.5.bn3.weight False\n",
      "resnet.layer3.5.bn3.bias False\n",
      "resnet.layer4.0.conv1.weight False\n",
      "resnet.layer4.0.bn1.weight False\n",
      "resnet.layer4.0.bn1.bias False\n",
      "resnet.layer4.0.conv2.weight False\n",
      "resnet.layer4.0.bn2.weight False\n",
      "resnet.layer4.0.bn2.bias False\n",
      "resnet.layer4.0.conv3.weight False\n",
      "resnet.layer4.0.bn3.weight False\n",
      "resnet.layer4.0.bn3.bias False\n",
      "resnet.layer4.0.downsample.0.weight False\n",
      "resnet.layer4.0.downsample.1.weight False\n",
      "resnet.layer4.0.downsample.1.bias False\n",
      "resnet.layer4.1.conv1.weight False\n",
      "resnet.layer4.1.bn1.weight False\n",
      "resnet.layer4.1.bn1.bias False\n",
      "resnet.layer4.1.conv2.weight False\n",
      "resnet.layer4.1.bn2.weight False\n",
      "resnet.layer4.1.bn2.bias False\n",
      "resnet.layer4.1.conv3.weight False\n",
      "resnet.layer4.1.bn3.weight False\n",
      "resnet.layer4.1.bn3.bias False\n",
      "resnet.layer4.2.conv1.weight False\n",
      "resnet.layer4.2.bn1.weight False\n",
      "resnet.layer4.2.bn1.bias False\n",
      "resnet.layer4.2.conv2.weight False\n",
      "resnet.layer4.2.bn2.weight False\n",
      "resnet.layer4.2.bn2.bias False\n",
      "resnet.layer4.2.conv3.weight False\n",
      "resnet.layer4.2.bn3.weight False\n",
      "resnet.layer4.2.bn3.bias False\n",
      "resnet.fc.weight True\n",
      "resnet.fc.bias True\n",
      "fc1.weight True\n",
      "fc1.bias True\n"
     ]
    }
   ],
   "source": [
    "for name, p in list(model.named_parameters()):\n",
    "    print(name, p.requires_grad)"
   ]
  },
  {
   "cell_type": "code",
   "execution_count": 50,
   "metadata": {},
   "outputs": [],
   "source": [
    "adam = torch.optim.Adam(list(filter(lambda p: p.requires_grad, model.parameters())),lr=args['lr'])\n",
    "bce_loss = torch.nn.BCELoss()"
   ]
  },
  {
   "cell_type": "code",
   "execution_count": null,
   "metadata": {},
   "outputs": [],
   "source": [
    "history_1 = train(args, model, train_gen, val_gen, adam, bce_loss)"
   ]
  }
 ],
 "metadata": {
  "kernelspec": {
   "display_name": "Python 3",
   "language": "python",
   "name": "python3"
  },
  "language_info": {
   "codemirror_mode": {
    "name": "ipython",
    "version": 3
   },
   "file_extension": ".py",
   "mimetype": "text/x-python",
   "name": "python",
   "nbconvert_exporter": "python",
   "pygments_lexer": "ipython3",
   "version": "3.7.3"
  }
 },
 "nbformat": 4,
 "nbformat_minor": 4
}
