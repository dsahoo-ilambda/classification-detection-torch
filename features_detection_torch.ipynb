{
 "cells": [
  {
   "cell_type": "code",
   "execution_count": 1,
   "metadata": {
    "collapsed": true
   },
   "outputs": [],
   "source": [
    "import pandas as pd\n",
    "import numpy as np\n",
    "import os\n",
    "import pathlib\n",
    "import pickle\n",
    "import time\n",
    "from tqdm.notebook import tqdm"
   ]
  },
  {
   "cell_type": "code",
   "execution_count": 136,
   "metadata": {
    "collapsed": true
   },
   "outputs": [],
   "source": [
    "import torch\n",
    "import torchvision\n",
    "from torch import nn, optim\n",
    "from torchvision.transforms import ToTensor, Normalize, Compose\n",
    "from torch.utils.data import DataLoader, Dataset\n",
    "from skimage import io, transform\n",
    "from sklearn.metrics import classification_report, auc, roc_curve, roc_auc_score\n",
    "from sklearn.model_selection import train_test_split"
   ]
  },
  {
   "cell_type": "code",
   "execution_count": 3,
   "metadata": {
    "collapsed": true
   },
   "outputs": [],
   "source": [
    "DATASET_PATH = '/home/ilambda/goods_viewer/Debasish/dataset/'\n",
    "TRAIN_IMAGE_PATH = '/home/ilambda/goods_viewer/Debasish/dataset/1_train_split/whole_resize'\n",
    "TEST_IMAGE_PATH = '/home/ilambda/goods_viewer/Debasish/dataset/1_eval_img_resize/'\n",
    "BATCH_SIZE = 32"
   ]
  },
  {
   "cell_type": "markdown",
   "metadata": {},
   "source": [
    "### Load the dataframes containing feature details"
   ]
  },
  {
   "cell_type": "code",
   "execution_count": 4,
   "metadata": {
    "collapsed": true
   },
   "outputs": [],
   "source": [
    "training_df = pd.read_csv('attributes_training_df.csv', index_col='index')\n",
    "testing_df = pd.read_csv('attributes_testing_df.csv', index_col='index')"
   ]
  },
  {
   "cell_type": "code",
   "execution_count": 5,
   "metadata": {
    "collapsed": true
   },
   "outputs": [],
   "source": [
    "# The list of features\n",
    "with open('all_features.pickle', 'rb') as f:\n",
    "    all_features = pickle.load(f)"
   ]
  },
  {
   "cell_type": "markdown",
   "metadata": {},
   "source": [
    "### Class to create Dataset for our model"
   ]
  },
  {
   "cell_type": "code",
   "execution_count": 6,
   "metadata": {
    "collapsed": true
   },
   "outputs": [],
   "source": [
    "class ImageFeaturesDataSet(Dataset):\n",
    "    def __init__(self, df, y_cols, imagedir, x_col='filename', transform=None):\n",
    "        self.df = df\n",
    "        self.y_cols = y_cols\n",
    "        self.imagedir = imagedir\n",
    "        self.x_col = x_col\n",
    "        self.df.reset_index(inplace=True, drop=True)\n",
    "        self.filenames = list(df[x_col].values)\n",
    "        self.idx = 0\n",
    "        self.transform = transform\n",
    "        \n",
    "    def __getitem__(self, idx):\n",
    "        im = io.imread(os.path.join(self.imagedir, self.filenames[idx]))\n",
    "        im = im /255.\n",
    "        #sample = (im, self.labels[idx])\n",
    "        if self.transform:\n",
    "            # to avoid the type mismatch error. ToTensor() expects a float32\n",
    "            im = im.astype(np.float32)\n",
    "            im = self.transform(im)\n",
    "        sample = (im, torch.tensor(self.df.iloc[idx][self.y_cols].values.astype(np.long)).type(torch.float32))\n",
    "        return sample\n",
    "    \n",
    "    def __len__(self):\n",
    "        return len(self.filenames)"
   ]
  },
  {
   "cell_type": "markdown",
   "metadata": {},
   "source": [
    "### Custom metrics functions"
   ]
  },
  {
   "cell_type": "code",
   "execution_count": 135,
   "metadata": {
    "collapsed": true
   },
   "outputs": [],
   "source": [
    "def classifications_at_threshold(actuals, outputs, threshold):\n",
    "    # The clone is very imp else it modifies the original tensor\n",
    "    outputs = outputs.clone()\n",
    "    preds = outputs.apply_(lambda x: 1 if x >= threshold else 0)\n",
    "    tp = torch.sum((actuals == 1) & (preds == 1))\n",
    "    tn = torch.sum((actuals == 0) & (preds == 0))\n",
    "    fp = torch.sum((actuals == 0) & (preds == 1))\n",
    "    fn = torch.sum((actuals == 1) & (preds == 0))\n",
    "    \n",
    "    return tp, tn, fp, fn\n",
    "\n",
    "def calc_pres_recall(actuals, outputs):\n",
    "    pres_list = []\n",
    "    rec_list = []\n",
    "    thresholds = [x/100 for x in range(0,101)]\n",
    "    for threshold in thresholds:\n",
    "        results = classifications_at_threshold(actuals, outputs, threshold)\n",
    "        pres_list.append(precision(*results))\n",
    "        rec_list.append(recall(*results))\n",
    "    return pres_list, rec_list\n",
    "\n",
    "def classifications(actuals, preds):\n",
    "    tp = torch.sum((actuals == 1) & (preds == 1))\n",
    "    tn = torch.sum((actuals == 0) & (preds == 0))\n",
    "    fp = torch.sum((actuals == 0) & (preds == 1))\n",
    "    fn = torch.sum((actuals == 1) & (preds == 0))\n",
    "    \n",
    "    return tp, tn, fp, fn\n",
    "\n",
    "def precision(tp, tn, fp, fn):\n",
    "    deno = tp + fp\n",
    "    if deno.item() == 0:\n",
    "        return 0.\n",
    "    precision = tp.type(torch.float)/(tp+fp)\n",
    "    return precision.item()\n",
    "\n",
    "def recall(tp, tn, fp, fn):\n",
    "    deno = tp + fn\n",
    "    if deno.item() == 0:\n",
    "        return 0.\n",
    "    recall = tp.type(torch.float)/(tp+fn)\n",
    "    \n",
    "    return recall.item()\n",
    "\n",
    "def f1score(actuals, preds):\n",
    "    classi = classifications(actuals, preds)\n",
    "    prec = precision(*classi)\n",
    "    rec = recall(*classi)\n",
    "    deno = prec + rec\n",
    "    if deno == 0:\n",
    "        return 0.\n",
    "    f1score = 2*prec*rec/(prec+rec)\n",
    "    return f1score\n",
    "\n",
    "def calculate_f1(prec, rec):\n",
    "    deno = prec + rec\n",
    "    if deno == 0:\n",
    "        return 0.0\n",
    "    f1 = 2*prec*rec/(prec+rec)\n",
    "    return f1\n",
    "    "
   ]
  },
  {
   "cell_type": "markdown",
   "metadata": {},
   "source": [
    "### Create Training Data Loaders"
   ]
  },
  {
   "cell_type": "code",
   "execution_count": 10,
   "metadata": {
    "collapsed": true
   },
   "outputs": [],
   "source": [
    "train_df, val_df = train_test_split(training_df, test_size=0.25)"
   ]
  },
  {
   "cell_type": "code",
   "execution_count": 11,
   "metadata": {},
   "outputs": [
    {
     "name": "stdout",
     "output_type": "stream",
     "text": [
      "(72147, 232)\n",
      "(24050, 232)\n"
     ]
    }
   ],
   "source": [
    "print(train_df.shape)\n",
    "print(val_df.shape)"
   ]
  },
  {
   "cell_type": "code",
   "execution_count": 53,
   "metadata": {
    "collapsed": true
   },
   "outputs": [],
   "source": [
    "training_transforms = Compose([ToTensor(), Normalize((0.2,0.2,0.2),(0.5,0.5,0.5))])\n",
    "\n",
    "train_ds = ImageFeaturesDataSet(train_df, all_features, TRAIN_IMAGE_PATH, transform=training_transforms)\n",
    "train_gen = DataLoader(train_ds, batch_size=BATCH_SIZE, shuffle=True, drop_last=True)\n",
    "\n",
    "val_ds = ImageFeaturesDataSet(val_df, all_features, TRAIN_IMAGE_PATH, transform=training_transforms)\n",
    "val_gen = DataLoader(val_ds, batch_size=BATCH_SIZE, shuffle=False, drop_last=True)"
   ]
  },
  {
   "cell_type": "markdown",
   "metadata": {},
   "source": [
    "### Train, validate and test functions"
   ]
  },
  {
   "cell_type": "code",
   "execution_count": 55,
   "metadata": {
    "collapsed": true
   },
   "outputs": [],
   "source": [
    "def validate(args, model, val_gen, bce_loss):\n",
    "    results = {}\n",
    "    model.eval()\n",
    "    all_preds = []\n",
    "    all_labels = []\n",
    "    tps, tns, fps, fns = torch.tensor(0), torch.tensor(0), torch.tensor(0), torch.tensor(0)\n",
    "    val_loss = 0.0\n",
    "    for images, labels in val_gen:\n",
    "        if torch.cuda.is_available():\n",
    "            images = images.cuda()\n",
    "            labels = labels.cuda()\n",
    "        outputs = model(images)\n",
    "        outputs = nn.Sigmoid()(outputs)\n",
    "        loss = bce_loss(outputs, labels)\n",
    "        val_loss += loss.cpu().item() * labels.size(0)\n",
    "        preds = outputs.cpu().data.apply_(lambda x: 1 if x >= 0.5 else 0)\n",
    "        all_labels.append(labels.detach().cpu())\n",
    "        all_preds.append(outputs.detach().cpu())\n",
    "        tp, tn, fp, fn = classifications(labels.cpu(), preds)\n",
    "        tps += tp\n",
    "        tns += tn\n",
    "        fps += fp\n",
    "        fns += fn\n",
    "    val_auc = roc_auc_score(torch.cat(all_labels).flatten(), torch.cat(all_preds).flatten())\n",
    "    val_loss = val_loss / (len(val_gen) * BATCH_SIZE)\n",
    "    prec = precision(tps, tns, fps, fns)\n",
    "    rec = recall(tps, tns, fps, fns)\n",
    "    f1 = calculate_f1(prec, rec)\n",
    "    results['val_loss'] = val_loss\n",
    "    results['val_tps'] = tps.cpu().item()\n",
    "    results['val_tns'] = tns.cpu().item()\n",
    "    results['val_fps'] = fps.cpu().item()\n",
    "    results['val_fns'] = fns.cpu().item()\n",
    "    results['val_precision'] = prec\n",
    "    results['val_recall'] = rec\n",
    "    results['val_f1'] = f1\n",
    "    results['val_auc'] = val_auc\n",
    "    \n",
    "    return results\n",
    "\n",
    "def train(args, model, training_gen, val_gen):\n",
    "    \n",
    "    history = {'loss': [], 'tp': [], 'tn': [], 'fp': [], 'fn': [], 'precision': [], 'recall': [], 'f1': [], 'auc': [],\n",
    "              'val_loss': [], 'val_tp': [], 'val_tn': [], 'val_fp': [], 'val_fn': [], 'val_precision': [], 'val_recall': [], 'val_f1': [], 'val_auc': []}\n",
    "    adam = torch.optim.Adam(model.parameters(),lr=args['lr'])\n",
    "    bce_loss = torch.nn.BCELoss()\n",
    "    if torch.cuda.is_available():\n",
    "        torch.cuda.set_device('cuda:1')\n",
    "        model.cuda()\n",
    "    epochs = args['epochs']\n",
    "    \n",
    "    for epoch in range(epochs):\n",
    "        #print(f\"epoch: {epoch+1} started...\")\n",
    "        start = time.time()\n",
    "        model.train()\n",
    "        train_loss = 0.0 \n",
    "        all_labels, all_preds = [], []\n",
    "        tps, tns, fps, fns = torch.tensor(0), torch.tensor(0), torch.tensor(0), torch.tensor(0)\n",
    "        for batch, (images, labels) in tqdm(enumerate(training_gen),desc=f'epoch: {epoch+1} ', total=len(training_gen)):\n",
    "            if torch.cuda.is_available():\n",
    "                images = images.cuda()\n",
    "                labels = labels.cuda()\n",
    "            adam.zero_grad()\n",
    "            outputs = model(images)\n",
    "            outputs = nn.Sigmoid()(outputs)\n",
    "            preds = outputs.cpu().data.apply_(lambda x: 1 if x >= 0.5 else 0)\n",
    "            loss = bce_loss(outputs, labels)\n",
    "            train_loss += loss.cpu().item() * labels.size(0)\n",
    "            loss.backward()\n",
    "            adam.step()\n",
    "            tp, tn, fp, fn = classifications(labels.cpu(), preds)\n",
    "            tps += tp\n",
    "            tns += tn\n",
    "            fps += fp\n",
    "            fns += fn\n",
    "            all_preds.append(outputs.detach().cpu())\n",
    "            all_labels.append(labels.detach().cpu())\n",
    "        train_auc = roc_auc_score(torch.cat(all_labels).flatten(), torch.cat(all_preds).flatten())\n",
    "        prec = precision(tps, tns, fps, fns)\n",
    "        rec = recall(tps, tns, fps, fns)\n",
    "        f1 = calculate_f1(prec, rec)\n",
    "        with torch.no_grad():\n",
    "            val_results = validate(args, model, val_gen, bce_loss)\n",
    "        end = time.time()\n",
    "        duration = (end - start)/60\n",
    "        train_loss = train_loss / (len(training_gen) * BATCH_SIZE)   \n",
    "        print(f\"epoch: {epoch+1}, duration: {duration: 0.2f} mins\")\n",
    "        print(f\"loss: {train_loss: 0.4f}, precision: {prec: 0.4f}, recall: {rec: 0.4f}, f1: {f1: 0.4f}, auc: {train_auc: 0.4f}\") \n",
    "        print(f\"val_loss: {val_results['val_loss']: 0.4f}, val_precision: {val_results['val_precision']: 0.4f}, val_recall: {val_results['val_recall']: 0.4f}, val_f1: {val_results['val_f1']: 0.4f}, val_auc: {val_results['val_auc']: 0.4f}\")\n",
    "        history['loss'].append(train_loss)\n",
    "        history['tp'].append(tps.cpu().item())\n",
    "        history['tn'].append(tns.cpu().item())\n",
    "        history['fp'].append(fps.cpu().item())\n",
    "        history['fn'].append(fns.cpu().item())\n",
    "        history['precision'].append(prec)\n",
    "        history['recall'].append(rec)\n",
    "        history['f1'].append(f1)\n",
    "        history['auc'].append(train_auc)\n",
    "        history['val_loss'].append(val_results['val_loss'])\n",
    "        history['val_tp'].append(val_results['val_tps'])\n",
    "        history['val_tn'].append(val_results['val_tns'])\n",
    "        history['val_fp'].append(val_results['val_fps'])\n",
    "        history['val_fn'].append(val_results['val_fns'])\n",
    "        history['val_precision'].append(val_results['val_precision'])\n",
    "        history['val_recall'].append(val_results['val_recall'])\n",
    "        history['val_f1'].append(val_results['val_f1'])\n",
    "        history['val_auc'].append(val_results['val_auc'])\n",
    "        \n",
    "    torch.save(model, 'feature_detection_model1.pickle')\n",
    "    return history"
   ]
  },
  {
   "cell_type": "markdown",
   "metadata": {},
   "source": [
    "### Load the Resnet Model with pre-trained weights"
   ]
  },
  {
   "cell_type": "code",
   "execution_count": 56,
   "metadata": {
    "collapsed": true
   },
   "outputs": [],
   "source": [
    "args = {'epochs': 10, 'lr': 0.00001}"
   ]
  },
  {
   "cell_type": "code",
   "execution_count": 57,
   "metadata": {
    "collapsed": true
   },
   "outputs": [],
   "source": [
    "resnet = torchvision.models.resnet50(pretrained=True, progress=False)\n",
    "resnet.fc = nn.Linear(in_features=resnet.fc.in_features, out_features=len(all_features))"
   ]
  },
  {
   "cell_type": "markdown",
   "metadata": {},
   "source": [
    "### Train the model"
   ]
  },
  {
   "cell_type": "code",
   "execution_count": 58,
   "metadata": {},
   "outputs": [
    {
     "data": {
      "application/vnd.jupyter.widget-view+json": {
       "model_id": "5bb5b3b8ebba490a87d42dd65c7d42e9",
       "version_major": 2,
       "version_minor": 0
      },
      "text/plain": [
       "HBox(children=(FloatProgress(value=0.0, description='epoch: 1 ', max=2254.0, style=ProgressStyle(description_w…"
      ]
     },
     "metadata": {},
     "output_type": "display_data"
    },
    {
     "name": "stdout",
     "output_type": "stream",
     "text": [
      "\n",
      "epoch: 1, duration:  14.18 mins\n",
      "loss:  0.1394, precision:  0.5712, recall:  0.3258, f1:  0.4149, auc:  0.8962\n",
      "val_loss:  0.0964, val_precision:  0.7216, val_recall:  0.4382, val_f1:  0.5453, val_auc:  0.9517\n"
     ]
    },
    {
     "data": {
      "application/vnd.jupyter.widget-view+json": {
       "model_id": "b27fd94f191e4302906ff93ef023567c",
       "version_major": 2,
       "version_minor": 0
      },
      "text/plain": [
       "HBox(children=(FloatProgress(value=0.0, description='epoch: 2 ', max=2254.0, style=ProgressStyle(description_w…"
      ]
     },
     "metadata": {},
     "output_type": "display_data"
    },
    {
     "name": "stdout",
     "output_type": "stream",
     "text": [
      "\n",
      "epoch: 2, duration:  14.17 mins\n",
      "loss:  0.0932, precision:  0.7311, recall:  0.4442, f1:  0.5526, auc:  0.9558\n",
      "val_loss:  0.0887, val_precision:  0.7309, val_recall:  0.4798, val_f1:  0.5793, val_auc:  0.9608\n"
     ]
    },
    {
     "data": {
      "application/vnd.jupyter.widget-view+json": {
       "model_id": "4443afc739c24629a5681669581b0053",
       "version_major": 2,
       "version_minor": 0
      },
      "text/plain": [
       "HBox(children=(FloatProgress(value=0.0, description='epoch: 3 ', max=2254.0, style=ProgressStyle(description_w…"
      ]
     },
     "metadata": {},
     "output_type": "display_data"
    },
    {
     "name": "stdout",
     "output_type": "stream",
     "text": [
      "\n",
      "epoch: 3, duration:  14.20 mins\n",
      "loss:  0.0873, precision:  0.7412, recall:  0.4786, f1:  0.5816, auc:  0.9627\n",
      "val_loss:  0.0855, val_precision:  0.7320, val_recall:  0.5017, val_f1:  0.5953, val_auc:  0.9645\n"
     ]
    },
    {
     "data": {
      "application/vnd.jupyter.widget-view+json": {
       "model_id": "9623a0769b8d4dd09caadbc36d3631be",
       "version_major": 2,
       "version_minor": 0
      },
      "text/plain": [
       "HBox(children=(FloatProgress(value=0.0, description='epoch: 4 ', max=2254.0, style=ProgressStyle(description_w…"
      ]
     },
     "metadata": {},
     "output_type": "display_data"
    },
    {
     "name": "stdout",
     "output_type": "stream",
     "text": [
      "\n",
      "epoch: 4, duration:  14.12 mins\n",
      "loss:  0.0836, precision:  0.7486, recall:  0.5015, f1:  0.6006, auc:  0.9666\n",
      "val_loss:  0.0839, val_precision:  0.7351, val_recall:  0.5108, val_f1:  0.6027, val_auc:  0.9664\n"
     ]
    },
    {
     "data": {
      "application/vnd.jupyter.widget-view+json": {
       "model_id": "d44cc556454740e4952311b99d04a016",
       "version_major": 2,
       "version_minor": 0
      },
      "text/plain": [
       "HBox(children=(FloatProgress(value=0.0, description='epoch: 5 ', max=2254.0, style=ProgressStyle(description_w…"
      ]
     },
     "metadata": {},
     "output_type": "display_data"
    },
    {
     "name": "stdout",
     "output_type": "stream",
     "text": [
      "\n",
      "epoch: 5, duration:  14.15 mins\n",
      "loss:  0.0807, precision:  0.7555, recall:  0.5215, f1:  0.6171, auc:  0.9695\n",
      "val_loss:  0.0829, val_precision:  0.7294, val_recall:  0.5257, val_f1:  0.6110, val_auc:  0.9676\n"
     ]
    },
    {
     "data": {
      "application/vnd.jupyter.widget-view+json": {
       "model_id": "822de656a7f54bd8879b7bf9ec8ee9ea",
       "version_major": 2,
       "version_minor": 0
      },
      "text/plain": [
       "HBox(children=(FloatProgress(value=0.0, description='epoch: 6 ', max=2254.0, style=ProgressStyle(description_w…"
      ]
     },
     "metadata": {},
     "output_type": "display_data"
    },
    {
     "name": "stdout",
     "output_type": "stream",
     "text": [
      "\n",
      "epoch: 6, duration:  14.19 mins\n",
      "loss:  0.0780, precision:  0.7629, recall:  0.5391, f1:  0.6317, auc:  0.9719\n",
      "val_loss:  0.0825, val_precision:  0.7254, val_recall:  0.5333, val_f1:  0.6147, val_auc:  0.9680\n"
     ]
    },
    {
     "data": {
      "application/vnd.jupyter.widget-view+json": {
       "model_id": "57bf8cd5f82848e4839bc01a0a14bef6",
       "version_major": 2,
       "version_minor": 0
      },
      "text/plain": [
       "HBox(children=(FloatProgress(value=0.0, description='epoch: 7 ', max=2254.0, style=ProgressStyle(description_w…"
      ]
     },
     "metadata": {},
     "output_type": "display_data"
    },
    {
     "name": "stdout",
     "output_type": "stream",
     "text": [
      "\n",
      "epoch: 7, duration:  14.17 mins\n",
      "loss:  0.0754, precision:  0.7706, recall:  0.5570, f1:  0.6466, auc:  0.9740\n",
      "val_loss:  0.0823, val_precision:  0.7275, val_recall:  0.5373, val_f1:  0.6181, val_auc:  0.9684\n"
     ]
    },
    {
     "data": {
      "application/vnd.jupyter.widget-view+json": {
       "model_id": "50c3575be9ea4319b9b8f003513f71e1",
       "version_major": 2,
       "version_minor": 0
      },
      "text/plain": [
       "HBox(children=(FloatProgress(value=0.0, description='epoch: 8 ', max=2254.0, style=ProgressStyle(description_w…"
      ]
     },
     "metadata": {},
     "output_type": "display_data"
    },
    {
     "name": "stdout",
     "output_type": "stream",
     "text": [
      "\n",
      "epoch: 8, duration:  14.19 mins\n",
      "loss:  0.0728, precision:  0.7791, recall:  0.5748, f1:  0.6615, auc:  0.9761\n",
      "val_loss:  0.0829, val_precision:  0.7169, val_recall:  0.5432, val_f1:  0.6181, val_auc:  0.9681\n"
     ]
    },
    {
     "data": {
      "application/vnd.jupyter.widget-view+json": {
       "model_id": "7436e5faa913441e841588f42a66c4e4",
       "version_major": 2,
       "version_minor": 0
      },
      "text/plain": [
       "HBox(children=(FloatProgress(value=0.0, description='epoch: 9 ', max=2254.0, style=ProgressStyle(description_w…"
      ]
     },
     "metadata": {},
     "output_type": "display_data"
    },
    {
     "name": "stdout",
     "output_type": "stream",
     "text": [
      "\n",
      "epoch: 9, duration:  14.23 mins\n",
      "loss:  0.0701, precision:  0.7879, recall:  0.5919, f1:  0.6760, auc:  0.9780\n",
      "val_loss:  0.0835, val_precision:  0.7130, val_recall:  0.5484, val_f1:  0.6200, val_auc:  0.9679\n"
     ]
    },
    {
     "data": {
      "application/vnd.jupyter.widget-view+json": {
       "model_id": "9d972af9604c4d29a2ac7e98e9803d43",
       "version_major": 2,
       "version_minor": 0
      },
      "text/plain": [
       "HBox(children=(FloatProgress(value=0.0, description='epoch: 10 ', max=2254.0, style=ProgressStyle(description_…"
      ]
     },
     "metadata": {},
     "output_type": "display_data"
    },
    {
     "name": "stdout",
     "output_type": "stream",
     "text": [
      "\n",
      "epoch: 10, duration:  14.23 mins\n",
      "loss:  0.0675, precision:  0.7970, recall:  0.6107, f1:  0.6915, auc:  0.9798\n",
      "val_loss:  0.0846, val_precision:  0.7037, val_recall:  0.5522, val_f1:  0.6188, val_auc:  0.9672\n"
     ]
    }
   ],
   "source": [
    "history = train(args, resnet, train_gen, val_gen)"
   ]
  },
  {
   "cell_type": "code",
   "execution_count": 23,
   "metadata": {
    "collapsed": true
   },
   "outputs": [],
   "source": [
    "with open('object_detection_history.pickle', 'wb') as f:\n",
    "    pickle.dump(history, f)"
   ]
  },
  {
   "cell_type": "code",
   "execution_count": 59,
   "metadata": {
    "collapsed": true
   },
   "outputs": [],
   "source": [
    "import matplotlib.pyplot as plt\n",
    "%matplotlib inline"
   ]
  },
  {
   "cell_type": "code",
   "execution_count": 64,
   "metadata": {},
   "outputs": [
    {
     "data": {
      "image/png": "[encoded data removed]",
      "text/plain": [
       "<Figure size 720x720 with 1 Axes>"
      ]
     },
     "metadata": {
      "needs_background": "light"
     },
     "output_type": "display_data"
    }
   ],
   "source": [
    "plt.figure(figsize=(10,10))\n",
    "plt.plot(history['auc'], label='train_auc')\n",
    "plt.plot(history['val_auc'], linestyle='--', label=\"val_auc\")\n",
    "plt.legend()\n",
    "plt.show()"
   ]
  },
  {
   "cell_type": "code",
   "execution_count": 63,
   "metadata": {},
   "outputs": [
    {
     "data": {
      "image/png": "[encoded data removed]",
      "text/plain": [
       "<Figure size 720x720 with 1 Axes>"
      ]
     },
     "metadata": {
      "needs_background": "light"
     },
     "output_type": "display_data"
    }
   ],
   "source": [
    "plt.figure(figsize=(10,10))\n",
    "plt.plot(history['loss'], label='train_loss')\n",
    "plt.plot(history['val_loss'], linestyle='--', label=\"val_loss\")\n",
    "plt.legend()\n",
    "plt.show()"
   ]
  },
  {
   "cell_type": "markdown",
   "metadata": {},
   "source": [
    "### Load testing data"
   ]
  },
  {
   "cell_type": "code",
   "execution_count": 66,
   "metadata": {
    "collapsed": true
   },
   "outputs": [],
   "source": [
    "test_ds = ImageFeaturesDataSet(testing_df, all_features, TEST_IMAGE_PATH, transform=training_transforms)\n",
    "test_gen = DataLoader(test_ds, batch_size=BATCH_SIZE, shuffle=False, drop_last=True)"
   ]
  },
  {
   "cell_type": "markdown",
   "metadata": {},
   "source": [
    "### Load trained model"
   ]
  },
  {
   "cell_type": "code",
   "execution_count": 80,
   "metadata": {
    "collapsed": true
   },
   "outputs": [],
   "source": [
    "with open('feature_detection_model1.pickle', 'rb') as f:\n",
    "    loaded_model = torch.load(f)"
   ]
  },
  {
   "cell_type": "markdown",
   "metadata": {},
   "source": [
    "### Evalution"
   ]
  },
  {
   "cell_type": "code",
   "execution_count": 83,
   "metadata": {},
   "outputs": [
    {
     "data": {
      "application/vnd.jupyter.widget-view+json": {
       "model_id": "a8e0c02badb2445f895019ffe9a949bf",
       "version_major": 2,
       "version_minor": 0
      },
      "text/plain": [
       "HBox(children=(FloatProgress(value=0.0, max=357.0), HTML(value='')))"
      ]
     },
     "metadata": {},
     "output_type": "display_data"
    },
    {
     "name": "stdout",
     "output_type": "stream",
     "text": [
      "\n"
     ]
    }
   ],
   "source": [
    "all_preds = []\n",
    "all_labels = []\n",
    "resnet.eval()\n",
    "if torch.cuda.is_available():\n",
    "    loaded_model.cuda()\n",
    "with torch.no_grad():\n",
    "    for images, labels in tqdm(test_gen, total=len(test_gen)):\n",
    "        if torch.cuda.is_available():\n",
    "            images = images.cuda()\n",
    "            labels = labels.cuda()\n",
    "\n",
    "        outputs = loaded_model(images)\n",
    "        outputs = nn.Sigmoid()(outputs)\n",
    "        all_labels.append(labels.cpu())\n",
    "        all_preds.append(outputs.cpu())"
   ]
  },
  {
   "cell_type": "code",
   "execution_count": 128,
   "metadata": {
    "collapsed": true
   },
   "outputs": [],
   "source": [
    "o = torch.cat(all_preds)\n",
    "l = torch.cat(all_labels)\n",
    "p,r = calc_pres_recall(l, o)"
   ]
  },
  {
   "cell_type": "code",
   "execution_count": 134,
   "metadata": {},
   "outputs": [
    {
     "data": {
      "image/png": "[encoded data removed]",
      "text/plain": [
       "<Figure size 720x720 with 1 Axes>"
      ]
     },
     "metadata": {
      "needs_background": "light"
     },
     "output_type": "display_data"
    }
   ],
   "source": [
    "plt.figure(figsize=(10,10))\n",
    "plt.plot(r, marker='.', color='red', label='recall')\n",
    "plt.plot(p, marker='.', color='green', label='precision')\n",
    "plt.legend()\n",
    "plt.xlabel(\"Thresholds\")\n",
    "plt.xticks([i for i in range(0,101,10)], labels=[i/100 for i in range(0,101,10)])\n",
    "plt.show()"
   ]
  },
  {
   "cell_type": "code",
   "execution_count": null,
   "metadata": {
    "collapsed": true
   },
   "outputs": [],
   "source": []
  }
 ],
 "metadata": {
  "kernelspec": {
   "display_name": "Python 3",
   "language": "python",
   "name": "python3"
  },
  "language_info": {
   "codemirror_mode": {
    "name": "ipython",
    "version": 3
   },
   "file_extension": ".py",
   "mimetype": "text/x-python",
   "name": "python",
   "nbconvert_exporter": "python",
   "pygments_lexer": "ipython3",
   "version": "3.6.3"
  }
 },
 "nbformat": 4,
 "nbformat_minor": 4
}
